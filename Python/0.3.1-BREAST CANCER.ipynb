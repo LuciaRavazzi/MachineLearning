{
 "cells": [
  {
   "cell_type": "markdown",
   "metadata": {},
   "source": [
    "## BREAST CANCER\n",
    "### EXERCISE WITH LOGISTIC REGRESSION"
   ]
  },
  {
   "cell_type": "markdown",
   "metadata": {},
   "source": [
    "The regression models are used to predict continuous values. \n",
    "The classification models are used to predict data which present a category, namely a discrete value. Finally, clustering detects pattern in data, namely groups of data which share the same characteristic on the basis of a similarity function."
   ]
  },
  {
   "cell_type": "code",
   "execution_count": 3,
   "metadata": {},
   "outputs": [],
   "source": [
    "import pandas as pd\n",
    "import numpy as np\n",
    "import matplotlib.pyplot as plt"
   ]
  },
  {
   "cell_type": "code",
   "execution_count": 44,
   "metadata": {},
   "outputs": [
    {
     "name": "stdout",
     "output_type": "stream",
     "text": [
      "0.9562043795620438 \n",
      " [[84  3]\n",
      " [ 3 47]]\n"
     ]
    }
   ],
   "source": [
    "# IMPORT THE DATASET.\n",
    "\n",
    "dataset = pd.read_csv('Dataset/breast_cancer.csv')\n",
    "X = dataset.iloc[:,1:-1].values\n",
    "Y = dataset.iloc[:,-1].values\n",
    "\n",
    "# SPLIT THE DATASET.\n",
    "\n",
    "from sklearn.model_selection import train_test_split\n",
    "\n",
    "X_train, X_test, Y_train, Y_test = train_test_split(X,\n",
    "                                                   Y,\n",
    "                                                   test_size = 0.2,\n",
    "                                                   random_state = 0)\n",
    "\n",
    "# TRAIN THE MODEL WITH LOGISTIC REGRESSION.\n",
    "\n",
    "from sklearn.linear_model import LogisticRegression\n",
    "LR = LogisticRegression()\n",
    "LR.fit(X_train, Y_train)\n",
    "\n",
    "# PREDICT THE TEST SET.\n",
    "Y_pred = LR.predict(X_test)\n",
    "\n",
    "# COMPUTE THE ACCUARCY.\n",
    "from sklearn.metrics import accuracy_score, confusion_matrix\n",
    "print(accuracy_score(Y_test, Y_pred), '\\n', confusion_matrix(Y_test, Y_pred))"
   ]
  },
  {
   "cell_type": "code",
   "execution_count": 51,
   "metadata": {},
   "outputs": [
    {
     "name": "stdout",
     "output_type": "stream",
     "text": [
      "96.70033670033669 +- 1.9697976894447813\n"
     ]
    }
   ],
   "source": [
    "# Accuarcy is a single value. Moreover, it hasn't also the confidence interval.\n",
    "# So, it's better to perform the K-fold cross validation\n",
    "# in order to obtain a more robust value.\n",
    "\n",
    "# NON è PROPRIO CORRETTO... OGNI CICLO HA IL PROPRIO TRAINING E TEST\n",
    "# SET E DI CONSEGUENZA L'ACCURATEZZA è CALCOLATA CON UN MODELLO\n",
    "# TRAINATO DA DIVERSI TRAINING SET.\n",
    "\n",
    "from sklearn.model_selection import cross_val_score\n",
    "accuracies = cross_val_score(estimator = LR, X = X_train, y = Y_train, cv = 10)\n",
    "print(accuracies.mean()*100, '+-',accuracies.std()*100)"
   ]
  }
 ],
 "metadata": {
  "kernelspec": {
   "display_name": "Python 3",
   "language": "python",
   "name": "python3"
  },
  "language_info": {
   "codemirror_mode": {
    "name": "ipython",
    "version": 3
   },
   "file_extension": ".py",
   "mimetype": "text/x-python",
   "name": "python",
   "nbconvert_exporter": "python",
   "pygments_lexer": "ipython3",
   "version": "3.7.6"
  }
 },
 "nbformat": 4,
 "nbformat_minor": 4
}
