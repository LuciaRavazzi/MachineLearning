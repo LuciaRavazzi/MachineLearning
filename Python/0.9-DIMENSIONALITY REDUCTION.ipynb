{
 "cells": [
  {
   "cell_type": "markdown",
   "metadata": {},
   "source": [
    "<h3><center> DIMENSIONALITY REDUCTION </h3></center>\n",
    "\n",
    "\n",
    "\n",
    "We worked with two **independent** variables for two reasons:\n",
    "- Because we needed two dimensions to visualize better how Machine Learning models worked (by plotting the prediction regions and the prediction boundary for each model).\n",
    "- Because whatever is the original number of our independent variables, we can often end up with two independent variables by applying an appropriate Dimensionality Reduction technique.\n",
    "\n",
    "There are two types of Dimensionality Reduction techniques:\n",
    "- **_Feature Selection_** which select some features from the dataset, such as Backward Elimination, Forward Selection, Bidirectional Elimination, Score Comparison and more (Regression section). It increase the _accuracy_, reduce the _training time_ and prevent _overfitting_.\n",
    "- **_Feature Extraction_** which create a new set of variables.\n",
    "   - **_Principal Component Analysis (PCA)_** is considered one of the most used unsupervised technique. **From $m$ independent variables of your dataset, PCA extracts $p \\leq m$ new independent variable that explain most of the varianca of the dataset, regardless of the dependent variable_** Principal Component Analysis (PCA) is an unsupervised, non-parametric statistical technique primarily used for dimensionality reduction in machine learning. The primary problem associated with high-dimensionality in the machine learning field is model overfitting, which reduces the ability to generalize beyond the examples in the training set. The ability to generalize correctly becomes exponentially harder as the dimensionality of the training dataset grows. On the other hand, it is used to overcome feature redundancy in the dataset. It uses the eigenvector and eigenvalues in order to determine the new variables as a linear combination of them. PCA is based on the Pearson correlation coefficient framework and inherits similar assumptions: _sample size_, minimum of 150 observations and ideally a 5:1 ratio of observation to features, _correlations_,  the feature set is correlated, so the reduced feature set effectively represents the original data space, _linearity_, all variables exhibit a constant multivariate normal relationship, and principal components are a linear combination of the original features, _outliers_, sensitive to them, _Large variance implies more structure_, high variance axes are treated as principal components, while low variance axes are treated as noise and discarded. Source: https://medium.com/apprentice-journal/pca-application-in-machine-learning-4827c07a61db PCA make the standardization of data. \n",
    "   - **_Linear Discriminant Analysis (LDA)_** aims to maximise the component axes for class-separation.\n",
    "   - **_Kernel PCA_**: non-linear dimensionality reduction through the use of kernels\n",
    "   - **_Quadratic Discriminant Analysis (QDA)_**\n",
    "   \n",
    "Correlation between attributes can be dangerous for _some_ algorithms (https://datascience.stackexchange.com/questions/24452/in-supervised-learning-why-is-it-bad-to-have-correlated-features), especially the linear ones. So, making a feature selection or extraction help us to take the most importnant information avoiding to work with that garbage."
   ]
  },
  {
   "cell_type": "code",
   "execution_count": 70,
   "metadata": {},
   "outputs": [],
   "source": [
    "import pandas as pd\n",
    "import numpy as np\n",
    "from sklearn.decomposition import PCA\n",
    "from sklearn.decomposition import KernelPCA\n",
    "from sklearn.model_selection import train_test_split\n",
    "from sklearn.preprocessing import StandardScaler\n",
    "import matplotlib.pyplot as plt\n",
    "from matplotlib.colors import ListedColormap\n",
    "from sklearn.discriminant_analysis import LinearDiscriminantAnalysis as LDA"
   ]
  },
  {
   "cell_type": "code",
   "execution_count": 58,
   "metadata": {},
   "outputs": [],
   "source": [
    "def plot_classification(classifier, X,Y):\n",
    "    # definisco i set che mi servono.\n",
    "    X_set, y_set = X, Y\n",
    "    \n",
    "    # creo una griglia di punti per creare la linea di confine.\n",
    "    X1, X2 = np.meshgrid(np.arange(start = X_set[:, 0].min() - 1, stop = X_set[:, 0].max() + 1, step = 0.01),\n",
    "                     np.arange(start = X_set[:, 1].min() - 1, stop = X_set[:, 1].max() + 1, step = 0.01))\n",
    "    \n",
    "    # partiziono lo spazio sulla base della griglie e delle predizioni fatte su di essa. \n",
    "    plt.contourf(X1, \n",
    "                 X2, \n",
    "                 classifier.predict((np.array([X1.ravel(), X2.ravel()]).T)).reshape(X1.shape),\n",
    "                 alpha = 0.75, \n",
    "                 cmap = ListedColormap(('red', 'green', 'blue')))\n",
    "    \n",
    "    plt.xlim(X1.min(), X1.max())\n",
    "    plt.ylim(X2.min(), X2.max())\n",
    "    \n",
    "    # inserisco i punti del dataset scelto e li coloro in base alla classe.\n",
    "    for i, j in enumerate(np.unique(y_set)):\n",
    "        plt.scatter(X_set[y_set == j, 0], # seleziono i punti della var. dipendente associati ad una certa categoria,\n",
    "                    X_set[y_set == j, 1], # ne prendo i due valori che mi servono e li plotto.\n",
    "                    c = ListedColormap(('red', 'green', 'blue'))(i), \n",
    "                    label = j # legenda.\n",
    "                   )\n",
    "    plt.xlabel('Age')\n",
    "    plt.ylabel('Estimated Salary')\n",
    "    plt.legend()\n",
    "    plt.show()"
   ]
  },
  {
   "cell_type": "code",
   "execution_count": 73,
   "metadata": {},
   "outputs": [
    {
     "data": {
      "text/plain": [
       "1.0"
      ]
     },
     "execution_count": 73,
     "metadata": {},
     "output_type": "execute_result"
    }
   ],
   "source": [
    "# Each row corresponds to a wine and tehe columns\n",
    "# describes its characteristics. From UCI.\n",
    "# The goal is to cluster wines.\n",
    "dataset = pd.read_csv('Dataset/Wine.csv')\n",
    "X = dataset.iloc[:,:-1].values\n",
    "y = dataset.iloc[:,-1].values\n",
    "\n",
    "# Train and test set.\n",
    "X_train, X_test, y_train, y_test = train_test_split(X, # independent variables.\n",
    "                                                    y, # dependent variables.\n",
    "                                                    test_size = 0.2, # size of test set.\n",
    "                                                    random_state = 0) # fix the seed for both of data set.\n",
    "\n",
    "# Feature scaling\n",
    "sc = StandardScaler()\n",
    "X_train = sc.fit_transform(X_train)\n",
    "X_test = sc.transform(X_test)\n",
    "\n",
    "# Make the PCA after applying the training phase.\n",
    "# pca = PCA(n_components = 2) # number of final components: the correct number derives from the analysis of variance.\n",
    "# X_train = pca.fit_transform(X_train)\n",
    "# X_test = pca.transform(X_test)\n",
    "\n",
    "# Make the LDA.\n",
    "# lda = LDA(n_components = 2)\n",
    "# X_train = lda.fit_transform(X_train, y_train)\n",
    "# X_test = lda.transform(X_test)\n",
    "\n",
    "# Make Kernel PCA.\n",
    "kpca = KernelPCA(n_components = 2, # number of final components\n",
    "                kernel = 'rbf' # radial basis function\n",
    "                ) \n",
    "X_train = kpca.fit_transform(X_train)\n",
    "X_test = kpca.transform(X_test)\n",
    "\n",
    "# Train the logistic regression. \n",
    "from sklearn.linear_model import LogisticRegression\n",
    "classifier = LogisticRegression(random_state = 0)\n",
    "classifier.fit(X_train, y_train)\n",
    "\n",
    "# Confusion matrix.\n",
    "from sklearn.metrics import confusion_matrix, accuracy_score\n",
    "y_pred = classifier.predict(X_test)\n",
    "cm = confusion_matrix(y_test, y_pred)\n",
    "accuracy_score(y_test, y_pred) \n",
    "\n",
    "# PCA can improve the results because turn out some redundant information."
   ]
  },
  {
   "cell_type": "code",
   "execution_count": 74,
   "metadata": {},
   "outputs": [
    {
     "name": "stderr",
     "output_type": "stream",
     "text": [
      "'c' argument looks like a single numeric RGB or RGBA sequence, which should be avoided as value-mapping will have precedence in case its length matches with 'x' & 'y'.  Please use a 2-D array with a single row if you really want to specify the same RGB or RGBA value for all points.\n",
      "'c' argument looks like a single numeric RGB or RGBA sequence, which should be avoided as value-mapping will have precedence in case its length matches with 'x' & 'y'.  Please use a 2-D array with a single row if you really want to specify the same RGB or RGBA value for all points.\n",
      "'c' argument looks like a single numeric RGB or RGBA sequence, which should be avoided as value-mapping will have precedence in case its length matches with 'x' & 'y'.  Please use a 2-D array with a single row if you really want to specify the same RGB or RGBA value for all points.\n"
     ]
    },
    {
     "data": {
      "image/png": "[encoded data removed]",
      "text/plain": [
       "<Figure size 432x288 with 1 Axes>"
      ]
     },
     "metadata": {
      "needs_background": "light"
     },
     "output_type": "display_data"
    }
   ],
   "source": [
    "plot_classification(classifier, X_train, y_train)"
   ]
  },
  {
   "cell_type": "code",
   "execution_count": 75,
   "metadata": {},
   "outputs": [
    {
     "name": "stderr",
     "output_type": "stream",
     "text": [
      "'c' argument looks like a single numeric RGB or RGBA sequence, which should be avoided as value-mapping will have precedence in case its length matches with 'x' & 'y'.  Please use a 2-D array with a single row if you really want to specify the same RGB or RGBA value for all points.\n",
      "'c' argument looks like a single numeric RGB or RGBA sequence, which should be avoided as value-mapping will have precedence in case its length matches with 'x' & 'y'.  Please use a 2-D array with a single row if you really want to specify the same RGB or RGBA value for all points.\n",
      "'c' argument looks like a single numeric RGB or RGBA sequence, which should be avoided as value-mapping will have precedence in case its length matches with 'x' & 'y'.  Please use a 2-D array with a single row if you really want to specify the same RGB or RGBA value for all points.\n"
     ]
    },
    {
     "data": {
      "image/png": "[encoded data removed]",
      "text/plain": [
       "<Figure size 432x288 with 1 Axes>"
      ]
     },
     "metadata": {
      "needs_background": "light"
     },
     "output_type": "display_data"
    }
   ],
   "source": [
    "plot_classification(classifier, X_test, y_test)"
   ]
  }
 ],
 "metadata": {
  "kernelspec": {
   "display_name": "CONDA_ROOT_ENV",
   "language": "python",
   "name": "conda_root_env"
  },
  "language_info": {
   "codemirror_mode": {
    "name": "ipython",
    "version": 3
   },
   "file_extension": ".py",
   "mimetype": "text/x-python",
   "name": "python",
   "nbconvert_exporter": "python",
   "pygments_lexer": "ipython3",
   "version": "3.7.6"
  }
 },
 "nbformat": 4,
 "nbformat_minor": 4
}
