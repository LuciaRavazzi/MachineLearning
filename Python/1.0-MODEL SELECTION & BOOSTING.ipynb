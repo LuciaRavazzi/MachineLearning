{
 "cells": [
  {
   "cell_type": "markdown",
   "metadata": {},
   "source": [
    "<h1><center> K-FOLDS CROSS VALIDATION </h1></center>"
   ]
  },
  {
   "cell_type": "code",
   "execution_count": 11,
   "metadata": {},
   "outputs": [],
   "source": [
    "import pandas as pd\n",
    "import numpy as np\n",
    "import matplotlib.pyplot as plt\n",
    "from sklearn.model_selection import train_test_split\n",
    "from matplotlib.colors import ListedColormap\n",
    "from sklearn.metrics import confusion_matrix, accuracy_score"
   ]
  },
  {
   "cell_type": "code",
   "execution_count": 12,
   "metadata": {},
   "outputs": [
    {
     "name": "stderr",
     "output_type": "stream",
     "text": [
      "C:\\Users\\Lucia\\Anaconda3\\lib\\importlib\\_bootstrap.py:219: RuntimeWarning: numpy.ufunc size changed, may indicate binary incompatibility. Expected 192 from C header, got 216 from PyObject\n",
      "  return f(*args, **kwds)\n"
     ]
    },
    {
     "name": "stdout",
     "output_type": "stream",
     "text": [
      "Accuracy: 90.33%\n",
      "Standard deviation: 6.57%\n"
     ]
    }
   ],
   "source": [
    "def after_class(classifier, X_test, Y_test):\n",
    "    # CONFUSION MATRIX: C00 is the true negative. \n",
    "    # Column is the result of the predictor.\n",
    "    CM = confusion_matrix(Y_test, classifier.predict(X_test))\n",
    "    ACC = accuracy_score(Y_test, classifier.predict(X_test))\n",
    "    print('\\n Accuracy: ', ACC, '\\n', 'Confusion matrix: \\n', CM)\n",
    "    \n",
    "\n",
    "# INITIAL SETUP.\n",
    "data = pd.read_csv('Dataset/Social_Network_Ads.csv')\n",
    "X = data.iloc[:,:-1].values\n",
    "y = data.iloc[:,-1]\n",
    "\n",
    "# TRAIN AND TEST SET.\n",
    "from sklearn.model_selection import train_test_split\n",
    "X_train, X_test, y_train, y_test = train_test_split(X, y, test_size = 0.25, random_state = 0)\n",
    "\n",
    "# FEATURE SCALING.\n",
    "from sklearn.preprocessing import StandardScaler\n",
    "sc = StandardScaler()\n",
    "X_train = sc.fit_transform(X_train)\n",
    "X_test = sc.transform(X_test)\n",
    "\n",
    "# CLASSIFICATION MODEL.\n",
    "from sklearn.svm import SVC\n",
    "classifier = SVC(kernel = 'rbf', random_state = 0)\n",
    "classifier.fit(X_train, y_train)\n",
    "\n",
    "# CROSS VALIDATION.\n",
    "from sklearn.model_selection import cross_val_score\n",
    "accuracies = cross_val_score(estimator = classifier,\n",
    "                            X = X_train,\n",
    "                            y = y_train,\n",
    "                            cv = 10)\n",
    "print(\"Accuracy: {:.2f}%\".format(accuracies.mean()*100))\n",
    "print(\"Standard deviation: {:.2f}%\".format(accuracies.std()*100))"
   ]
  },
  {
   "cell_type": "markdown",
   "metadata": {},
   "source": [
    "<h3><center> GRID SEARCH </h3></center>\n",
    "\n",
    "It's a method used to find the best hyperparameter."
   ]
  },
  {
   "cell_type": "code",
   "execution_count": 28,
   "metadata": {},
   "outputs": [
    {
     "data": {
      "text/plain": [
       "GridSearchCV(cv=10, error_score=nan,\n",
       "             estimator=SVC(C=1.0, break_ties=False, cache_size=200,\n",
       "                           class_weight=None, coef0=0.0,\n",
       "                           decision_function_shape='ovr', degree=3,\n",
       "                           gamma='scale', kernel='rbf', max_iter=-1,\n",
       "                           probability=False, random_state=0, shrinking=True,\n",
       "                           tol=0.001, verbose=False),\n",
       "             iid='deprecated', n_jobs=-1,\n",
       "             param_grid=[{'C': [0.25, 0.5, 0.75, 1], 'kernel': ['linear']},\n",
       "                         {'C': [0.25, 0.5, 0.75, 1],\n",
       "                          'gamma': [0.1, 0.2, 0.4, 0.5, 0.6, 0.7, 0.8, 0.9],\n",
       "                          'kernel': ['rbf']}],\n",
       "             pre_dispatch='2*n_jobs', refit=True, return_train_score=False,\n",
       "             scoring='accuracy', verbose=0)"
      ]
     },
     "execution_count": 28,
     "metadata": {},
     "output_type": "execute_result"
    }
   ],
   "source": [
    "from sklearn.model_selection import GridSearchCV\n",
    "# we tune C, the regularization parameter and\n",
    "parameters = [{'C': [0.25, 0.5, 0.75, 1], 'kernel': ['linear']},\n",
    "             {'C': [0.25, 0.5, 0.75, 1], 'kernel': ['rbf'], 'gamma':[0.1, 0.2, 0.4, 0.5, 0.6, 0.7, 0.8, 0.9]}]\n",
    "G_search = GridSearchCV(estimator = classifier, \n",
    "                        param_grid = parameters,\n",
    "                       scoring = 'accuracy',\n",
    "                       cv = 10,\n",
    "                       n_jobs = -1 # all processors must be used.\n",
    "                       )\n",
    "G_search.fit(X_train, y_train)"
   ]
  },
  {
   "cell_type": "code",
   "execution_count": 27,
   "metadata": {},
   "outputs": [
    {
     "name": "stdout",
     "output_type": "stream",
     "text": [
      "Accuracy: 90.67%\n",
      "Parameters: {'C': 0.5, 'gamma': 0.6, 'kernel': 'rbf'}\n"
     ]
    }
   ],
   "source": [
    "# best accuracy.\n",
    "G_search.best_score_\n",
    "# best parameters.\n",
    "G_search.best_params_\n",
    "\n",
    "print(\"Accuracy: {:.2f}%\".format(G_search.best_score_*100))\n",
    "print(\"Parameters:\", G_search.best_params_)\n",
    "\n",
    "# accuracy is increased."
   ]
  },
  {
   "cell_type": "markdown",
   "metadata": {},
   "source": [
    "<h3><center> BOOSTING </h3></center>\n",
    "\n"
   ]
  },
  {
   "cell_type": "code",
   "execution_count": 77,
   "metadata": {},
   "outputs": [
    {
     "name": "stdout",
     "output_type": "stream",
     "text": [
      "\n",
      " Accuracy:  0.9781021897810219 \n",
      " Confusion matrix: \n",
      " [[84  3]\n",
      " [ 0 50]]\n"
     ]
    }
   ],
   "source": [
    "\n",
    "# INITIAL SETUP.\n",
    "data = pd.read_csv('Dataset/Data.csv')\n",
    "X = data.iloc[:,:-1].values\n",
    "y = data.iloc[:,-1].values\n",
    "# Train and test.\n",
    "from sklearn.model_selection import train_test_split\n",
    "X_train, X_test, y_train, y_test = train_test_split(X, # independent variables.\n",
    "                                                    y, # dependent variables.\n",
    "                                                    test_size = 0.2, # size of test set.\n",
    "                                                    random_state = 0) # fix the seed for both of data set.\n",
    "\n",
    "from xgboost import XGBClassifier\n",
    "classifier = XGBClassifier()\n",
    "classifier.fit(X_train, y_train)\n",
    "\n",
    "CM = confusion_matrix(y_test, classifier.predict(X_test))\n",
    "ACC = accuracy_score(y_test, classifier.predict(X_test))\n",
    "print('\\n Accuracy: ', ACC, '\\n', 'Confusion matrix: \\n', CM)\n",
    "\n",
    "#  Gradient boost is a technique for the classification (binary values) or regression (continuous values).\n",
    "# It's the best one."
   ]
  }
 ],
 "metadata": {
  "kernelspec": {
   "display_name": "CONDA_ROOT_ENV",
   "language": "python",
   "name": "conda_root_env"
  },
  "language_info": {
   "codemirror_mode": {
    "name": "ipython",
    "version": 3
   },
   "file_extension": ".py",
   "mimetype": "text/x-python",
   "name": "python",
   "nbconvert_exporter": "python",
   "pygments_lexer": "ipython3",
   "version": "3.7.6"
  }
 },
 "nbformat": 4,
 "nbformat_minor": 4
}
