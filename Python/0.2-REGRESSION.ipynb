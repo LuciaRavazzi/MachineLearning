{
 "cells": [
  {
   "cell_type": "markdown",
   "metadata": {},
   "source": [
    "<h1><center> REGRESSION MODELS </h1></center>"
   ]
  },
  {
   "cell_type": "markdown",
   "metadata": {},
   "source": [
    "<h3><center> SIMPLE REGRESSION MODELS </h3></center> \n",
    "\n",
    "The formula aims to approximate data with a straight line $y = \\beta_0 + \\beta_1 x$. The algorithm choose the straight line which minimize the square error."
   ]
  },
  {
   "cell_type": "code",
   "execution_count": 2,
   "metadata": {},
   "outputs": [],
   "source": [
    "import pandas as pd\n",
    "import numpy as np\n",
    "import matplotlib.pyplot as plt\n",
    "from sklearn.model_selection import train_test_split\n",
    "from sklearn.linear_model import LinearRegression\n",
    "from sklearn.metrics import r2_score"
   ]
  },
  {
   "cell_type": "code",
   "execution_count": 81,
   "metadata": {},
   "outputs": [
    {
     "name": "stdout",
     "output_type": "stream",
     "text": [
      "Coefficient: 9312.58 Intercept: 26780.10 Coeff. di determinazione: 0.957\n"
     ]
    },
    {
     "data": {
      "image/png": "[encoded data removed]",
      "text/plain": [
       "<Figure size 432x288 with 1 Axes>"
      ]
     },
     "metadata": {
      "needs_background": "light"
     },
     "output_type": "display_data"
    }
   ],
   "source": [
    "data = pd.read_csv('Dataset/Salary_Data.csv')\n",
    "\n",
    "# dependent and independent variables.\n",
    "X = data.iloc[:, :-1].values\n",
    "y = data.iloc[:,-1].values\n",
    "\n",
    "# test and train.\n",
    "X_train, X_test, y_train, y_test = train_test_split(X,\n",
    "                                                   y,\n",
    "                                                   test_size = 0.2,\n",
    "                                                   random_state = 0) # test size.\n",
    "\n",
    "# train the model.\n",
    "\n",
    "# in this case, we compute the correlation between variables.\n",
    "# REGRESSION IS THE PROCEDURE WHICH ENABLE YOU TO PREDICT CONTINUOUS VALUES,\n",
    "# WHILE CLASSIFICATION IS USED TO PREDICT DISCRETE VALUES.\n",
    "\n",
    "classifier = LinearRegression()\n",
    "classifier.fit(X_train, y_train)\n",
    "\n",
    "# only the dependent variable.\n",
    "y_pred = classifier.predict(X_test)\n",
    "\n",
    "# know the parameters of the line.\n",
    "LR = r2_score(y, classifier.predict(X))\n",
    "print('Coefficient: {:.2f}'.format(classifier.coef_[0]),\n",
    "      'Intercept: {:.2f}'.format(classifier.intercept_),\n",
    "      'Coeff. di determinazione: {:.3f}'.format(LR))\n",
    "\n",
    "plt.scatter(X_train, y_train, color = 'red')\n",
    "plt.plot(X_train, classifier.predict(X_train), color = 'blue')\n",
    "plt.title('SALARY vs. YEARS')\n",
    "plt.xlabel('YEARS')\n",
    "plt.ylabel('SALARY')\n",
    "plt.grid(True)\n",
    "plt.show()"
   ]
  },
  {
   "cell_type": "code",
   "execution_count": 57,
   "metadata": {},
   "outputs": [
    {
     "name": "stdout",
     "output_type": "stream",
     "text": [
      "Coefficient: 9312.58 Intercept: 26780.10\n"
     ]
    }
   ],
   "source": [
    "# predict a new value.\n",
    "classifier.predict([[12]])"
   ]
  },
  {
   "cell_type": "markdown",
   "metadata": {},
   "source": [
    "<h3><center> MULTIPLE REGRESSION MODELS </h3></center> "
   ]
  },
  {
   "cell_type": "markdown",
   "metadata": {},
   "source": [
    "Assumption of a Linear Regression:\n",
    "    \n",
    "- Linearity of coefficients between $X$ and $Y$.\n",
    "- Homoscedadasticity and normality: errors are picked up from the same gaussian distribution with zero mean and a fix value of variance.\n",
    "- Independence of errors: \n",
    "- Lack of multicollinearity.\n",
    "\n",
    "http://r-statistics.co/Assumptions-of-Linear-Regression.html\n",
    "\n",
    "We don't take into account them. \n",
    "\n",
    "**_Dummy variables_** are variables obtained by the one-hot-encoding procedure. This technique is used for categorical variables. However, all dummies aren't included in the regression due to the consequent introduction of multicollinearity: **_dummy variable trap_**. The coefficient of a dummy is the difference between the coefficient of a dummy minus the other ones. Indeed, if I specify a dummy in a regression with a specific coefficient, I can wonder where is the coefficient of the others. However, this isn't the right reasoning because the coefficient of the provided variable is the difference between the coefficient of dummies. When the $D_1=1$, $b_1 = b_{D1}-b_{D2}$ and so $b_0+b_1 = b_0 + b_{D1} - b_{D2} = b_0^* + b_{D2} + b_{D1} - b_{D2} = b_0^* + d_{D1}$.\n",
    "\n",
    "However,  the main problem is that there is a correlation between dummies, indeed $D_i = 1 - D_j$. The collinearity is high. \n",
    "The **p-value** is the probability of something occurs assuming the null hypothesis. The $\\alpha$  is the threshold below which the null hypothesis is rejected, i.e. **statistically significance**.\n",
    "\n",
    "Do all the variable be included into the model? No, because garbage in, garbage out. There are different methods (**_Feature selection_**):\n",
    "- **_All-in_**: all variables and you know that all of them are essential or because it's a step after the following steps. \n",
    "- **_Backward elimination_**:  drop the variables at each regression. It's made of different steps:\n",
    "  - Select a significance level to stay in the model.\n",
    "  - Fit the full model with the possible predictors.\n",
    "  - Consider the predictor with the highest p-value.\n",
    "  - Remove the predictor.\n",
    "  - Fit the model without this variable. \n",
    "  - Back to the step number three and repeat. \n",
    "- **_Forward selection_**: it's not only the reverse of the previous model.\n",
    "  - Select a significance level.\n",
    "  - Fit all possible simple regression. Select the one with the lowest p-value.\n",
    "  - Keep this variable and fit all possiblemodels with one extra predictor added to the one(s) you already have\n",
    "  - Consider the predictor with the lowest p-value. \n",
    "  - Repet the step number three. \n",
    "  - When a new predictor has a p-value major of alpha, stop.\n",
    "- **_Bidirectional elimination_**:\n",
    "  - Define a confidence interval to stay and to inter.\n",
    "  - Perform the next step of forward selection-\n",
    "  - Perform all steps of backward elimination.\n",
    "  - No new variables can enter and no old exist.\n",
    "- **_Score comparison_**: it's a time consuming model.\n",
    "  - Select a criterion of goodness of fit\n",
    "  - Construct all possible regression models\n",
    "  - Select the one which satisfies the best measures.\n",
    "  "
   ]
  },
  {
   "cell_type": "code",
   "execution_count": 82,
   "metadata": {},
   "outputs": [
    {
     "name": "stdout",
     "output_type": "stream",
     "text": [
      "Coefficient: 86.64 Intercept: 42467.53 Coeff. di determinazione: 0.949\n"
     ]
    }
   ],
   "source": [
    "dataset = pd.read_csv('Dataset/50_Startups.csv')\n",
    "\n",
    "# SELECT THE DEPENDENT AND INDEPENDENT VARIABLES.\n",
    "\n",
    "X = dataset.iloc[:,:-1].values\n",
    "y = dataset.iloc[:,-1].values\n",
    "\n",
    "# ENCODING CATEGORIAL VARIABLES.\n",
    "\n",
    "from sklearn.compose import ColumnTransformer\n",
    "from sklearn.preprocessing import OneHotEncoder\n",
    "\n",
    "ct = ColumnTransformer(transformers=[('encoder', OneHotEncoder(), [3])], remainder = 'passthrough')\n",
    "X = ct.fit_transform(X)\n",
    "\n",
    "# SPLIT THE DATASET.\n",
    "\n",
    "X_train, X_test, y_train, y_test = train_test_split(X,\n",
    "                                                   y,\n",
    "                                                   test_size = 0.2 ,\n",
    "                                                   random_state = 0)\n",
    "\n",
    "# IN MULTIPLE LINEAR REGRESSION THERE ISN'T THE NEED TO PERFORM FEATURE SCALING. \n",
    "# INDEED, IF A VARIABLE ASSUME HIGH VALUES, THE COEFFICIENT'LL BE SMALL.\n",
    "\n",
    "# THE PACKAGE TREATS AUTOMATICALLY THE COLLINEARITY OF DUMMIES. \n",
    "\n",
    "# FOR THE SAME REASON, THE PACKAGE SELECTS THE MOST SIGNIFICANT VARIABLES.\n",
    "# SO PREVIUOS MODELS MUSN'T BE PERFORMED.\n",
    "\n",
    "classifier = LinearRegression()\n",
    "classifier.fit(X_train, y_train)\n",
    "\n",
    "y_pred = classifier.predict(X_test)\n",
    "np.set_printoptions(precision=2)\n",
    "\n",
    "\n",
    "# IF THE MODEL PERFORMS BAD, OTHER ONES CAN BE CARRIED OUT.\n",
    "np.concatenate((y_pred.reshape(len(y_pred),1), y_test.reshape(len(y_test),1)), axis = 1)\n",
    "\n",
    "classifier.predict(np.array([[160000, 130000, 300000,0,0,1]]))\n",
    "\n",
    "MLR = r2_score(y, classifier.predict(X))\n",
    "print('Coefficient: {:.2f}'.format(classifier.coef_[0]),\n",
    "      'Intercept: {:.2f}'.format(classifier.intercept_), \n",
    "      'Coeff. di determinazione: {:.3f}'.format(MLR))"
   ]
  },
  {
   "cell_type": "markdown",
   "metadata": {},
   "source": [
    "<h3><center> POLYNOMIAL REGRESSION MODELS </h3></center> "
   ]
  },
  {
   "cell_type": "markdown",
   "metadata": {},
   "source": [
    "The **linearity** refer to the grade of coefficientes. It is a special case of multiple linear regression."
   ]
  },
  {
   "cell_type": "code",
   "execution_count": 126,
   "metadata": {},
   "outputs": [
    {
     "name": "stdout",
     "output_type": "stream",
     "text": [
      "Coeff. di determinazione: 0.997\n"
     ]
    },
    {
     "data": {
      "image/png": "[encoded data removed]",
      "text/plain": [
       "<Figure size 432x288 with 1 Axes>"
      ]
     },
     "metadata": {
      "needs_background": "light"
     },
     "output_type": "display_data"
    }
   ],
   "source": [
    "dataset = pd.read_csv('Dataset/Position_Salaries.csv')\n",
    "X = dataset.iloc[:,1:-1].values\n",
    "y = dataset.iloc[:,-1].values\n",
    "\n",
    "# encoding isn't necessary.\n",
    "# there aren't missing values.\n",
    "# we don't split the dataset because it contains only a few observations.\n",
    "\n",
    "from sklearn.preprocessing import PolynomialFeatures\n",
    "poly_reg = PolynomialFeatures(degree = 4)\n",
    "X_poly = poly_reg.fit_transform(X)\n",
    "\n",
    "classifier = LinearRegression()\n",
    "classifier.fit(X_poly,y)\n",
    "\n",
    "PLR = r2_score(y, classifier.predict(X_poly))\n",
    "print('Coeff. di determinazione: {:.3f}'.format(PLR))\n",
    "\n",
    "# PLOT THE POLYNOMIAL LINEAR REGRESSION.\n",
    " \n",
    "plt.scatter(X,y)\n",
    "plt.plot(X,classifier.predict(X_poly), color = 'red')\n",
    "plt.xlabel('CATEGORY')\n",
    "plt.ylabel('SALARY')\n",
    "plt.grid(True)\n",
    "plt.show()"
   ]
  },
  {
   "cell_type": "code",
   "execution_count": 75,
   "metadata": {},
   "outputs": [
    {
     "data": {
      "text/plain": [
       "array([158862.45])"
      ]
     },
     "execution_count": 75,
     "metadata": {},
     "output_type": "execute_result"
    }
   ],
   "source": [
    "classifier.predict(poly_reg.fit_transform([[6.5]]))"
   ]
  },
  {
   "cell_type": "markdown",
   "metadata": {},
   "source": [
    "<h3><center>  SUPPORT VECTOR REGRESSION </h3></center> "
   ]
  },
  {
   "cell_type": "markdown",
   "metadata": {},
   "source": [
    "Vapnik has introduced this regression. The algorithm doesn't take into account the points inside the tube when has to compute the error. We care about the distances of points outside the tube. This is a linear model. So, LSVR looks like Simple regression but only with specific set of points. Support vector are the ones which determine the straight lines of tube.\n",
    "\n",
    "However, this is a sepcial case. Indeed, there are also the non linear support vector regression. \n",
    "\n",
    "Feature scaling must be performed because there aren't coefficients that balance the difference of order. "
   ]
  },
  {
   "cell_type": "code",
   "execution_count": 127,
   "metadata": {},
   "outputs": [
    {
     "name": "stdout",
     "output_type": "stream",
     "text": [
      "Coeff. di determinazione: 0.752\n"
     ]
    },
    {
     "data": {
      "image/png": "[encoded data removed]",
      "text/plain": [
       "<Figure size 432x288 with 1 Axes>"
      ]
     },
     "metadata": {
      "needs_background": "light"
     },
     "output_type": "display_data"
    }
   ],
   "source": [
    "dataset = pd.read_csv('Dataset/Position_Salaries.csv')\n",
    "X = dataset.iloc[:,1:-1].values\n",
    "Y = dataset.iloc[:,-1].values\n",
    "\n",
    "# for feature scaling: from an array 1D to 2D.\n",
    "Y = Y.reshape(len(Y),1) \n",
    "\n",
    "# FEATURE SCALING: also for the x attribute otherwise it has a \n",
    "# different scale from the other one. In this way, the most part of attributes\n",
    "# stay in the range [-3,3].\n",
    "from sklearn.preprocessing import StandardScaler\n",
    "sc_Y = StandardScaler()\n",
    "Y = sc_Y.fit_transform(Y)\n",
    "sc_X = StandardScaler()\n",
    "X = sc_X.fit_transform(X)\n",
    "#print(sc_X.inverse_transform(X))\n",
    "# THE SPLITTING DOESN'T OCCUR DUE TO THE SHAPE OF DATASET.\n",
    "\n",
    "# ENCODING ISN'T NECESSARY.\n",
    "\n",
    "# PERFORM THE ALGORITHM.\n",
    "from sklearn.svm import SVR\n",
    "\n",
    "classifier = SVR(kernel = 'rbf')\n",
    "classifier.fit(X,Y.reshape(1, len(Y))[0])\n",
    "\n",
    "SVR_r_2 = r2_score(Y, classifier.predict(X)) \n",
    "print('Coeff. di determinazione: {:.3f}'.format(SVR_r_2))\n",
    "\n",
    "plt.scatter(sc_X.inverse_transform(X), sc_Y.inverse_transform(Y))\n",
    "plt.plot(sc_X.inverse_transform(X), sc_Y.inverse_transform(classifier.predict(X)), color  = 'red')\n",
    "plt.xlabel('YEARS OF EXPERIENCE')\n",
    "plt.ylabel('SALARY')\n",
    "plt.grid(True)\n",
    "plt.show()"
   ]
  },
  {
   "cell_type": "code",
   "execution_count": 78,
   "metadata": {},
   "outputs": [
    {
     "data": {
      "text/plain": [
       "array([131106.77])"
      ]
     },
     "execution_count": 78,
     "metadata": {},
     "output_type": "execute_result"
    }
   ],
   "source": [
    "# PREDICT NEW VALUES.\n",
    "sc_Y.inverse_transform(SupportVR.predict(sc_X.fit_transform([[6.5]])))"
   ]
  },
  {
   "cell_type": "markdown",
   "metadata": {},
   "source": [
    "<h3><center> DECISION TREE </h3></center>\n",
    "\n",
    "**_CART_** (_Classification and regression Trees_ ) refer to Classification and Regression trees. The latter are more complex then the former. Decision trees split the space in order to create some leaves on the basis of the value of entropy. Then, the computation of the mean of the independent variable occurs which represent the number associated to a new value within a specific leaf. These techniques are used with not only one attribute, in general."
   ]
  },
  {
   "cell_type": "code",
   "execution_count": 130,
   "metadata": {},
   "outputs": [
    {
     "name": "stdout",
     "output_type": "stream",
     "text": [
      "Coeff. di determinazione: 1.000\n"
     ]
    },
    {
     "data": {
      "image/png": "[encoded data removed]",
      "text/plain": [
       "<Figure size 432x288 with 1 Axes>"
      ]
     },
     "metadata": {
      "needs_background": "light"
     },
     "output_type": "display_data"
    }
   ],
   "source": [
    "dataset = pd.read_csv('Dataset/Position_Salaries.csv')\n",
    "X = dataset.iloc[:,1:-1].values\n",
    "Y = dataset.iloc[:,-1].values\n",
    "\n",
    "# FEATURE SCALING isn't needed because the main principle is \n",
    "# the splitting of variables.\n",
    "\n",
    "# THE SPLITTING DOESN'T OCCUR DUE TO THE SHAPE OF DATASET.\n",
    "\n",
    "# ENCODING ISN'T NECESSARY.\n",
    "\n",
    "# PERFORM THE TECHNIQUE.\n",
    "from sklearn.tree import DecisionTreeRegressor\n",
    "classifier = DecisionTreeRegressor(random_state = 0)\n",
    "classifier.fit(X,Y)\n",
    "\n",
    "DT = r2_score(Y, classifier.predict(X)) \n",
    "print('Coeff. di determinazione: {:.3f}'.format(DT))\n",
    "\n",
    "# PREDICT A NEW VALUE.\n",
    "classifier.predict([[6.5]])\n",
    "\n",
    "# it functions also for outliers.\n",
    "\n",
    "plt.scatter(X,Y)\n",
    "plt.plot(X, classifier.predict(X), color = 'red')\n",
    "plt.grid(True)\n",
    "plt.show()"
   ]
  },
  {
   "cell_type": "code",
   "execution_count": 44,
   "metadata": {},
   "outputs": [
    {
     "data": {
      "image/png": "[encoded data removed]",
      "text/plain": [
       "<Figure size 432x288 with 1 Axes>"
      ]
     },
     "metadata": {
      "needs_background": "light"
     },
     "output_type": "display_data"
    }
   ],
   "source": [
    "# It's not the best adopted model to two dimensional tables. \n",
    "# This occur beacause in each leaf there is only one value \n",
    "# so the consequence is that the predicted value is equal to the \n",
    "# mean of the value that it turns out to be the value.\n",
    "\n",
    "X_grid = np.arange(min(X), max(X), 0.1)\n",
    "X_grid = X_grid.reshape(len(X_grid),1)\n",
    "plt.scatter(X,Y)\n",
    "plt.plot(X_grid, DTR.predict(X_grid), color = 'red')\n",
    "plt.grid(True)\n",
    "plt.show()"
   ]
  },
  {
   "cell_type": "markdown",
   "metadata": {},
   "source": [
    "<h3><center> RANDOM FOREST REGRESSION </h3></center>"
   ]
  },
  {
   "cell_type": "markdown",
   "metadata": {},
   "source": [
    "The **ensemble learning** is a methodology in which the procedure takes into account different algorithms. \n",
    "The steps are described as follows:\n",
    "\n",
    "- Pick at random $K$ data points from the training set.\n",
    "- Build the decision tree associated to these $K$ points.\n",
    "- Choose the number of Ntree of trees wou want to build and repeat STEPS 1 and 2.\n",
    "- For a new data point, make each one of your Ntree predict the value of $Y$ to for the new data point in question and assign the new data point the average across all of the predicted $Y$ values. "
   ]
  },
  {
   "cell_type": "code",
   "execution_count": 133,
   "metadata": {},
   "outputs": [
    {
     "name": "stdout",
     "output_type": "stream",
     "text": [
      "Coeff. di determinazione: 0.963\n"
     ]
    },
    {
     "data": {
      "image/png": "[encoded data removed]",
      "text/plain": [
       "<Figure size 432x288 with 1 Axes>"
      ]
     },
     "metadata": {
      "needs_background": "light"
     },
     "output_type": "display_data"
    }
   ],
   "source": [
    "dataset = pd.read_csv('Dataset/Position_Salaries.csv')\n",
    "X = dataset.iloc[:,1:-1].values\n",
    "Y = dataset.iloc[:,-1].values\n",
    "\n",
    "# FEATURE SCALING isn't needed because the main principle is \n",
    "# the splitting of variables.\n",
    "\n",
    "# THE SPLITTING DOESN'T OCCUR DUE TO THE SHAPE OF DATASET.\n",
    "\n",
    "# ENCODING ISN'T NECESSARY.\n",
    "\n",
    "# PERFORM THE TECHNIQUE.\n",
    "from sklearn.ensemble import RandomForestRegressor\n",
    "classifier = RandomForestRegressor(n_estimators=10)\n",
    "classifier.fit(X,Y)\n",
    "\n",
    "classifier.predict([[6.5]])\n",
    "RF = r2_score(Y, classifier.predict(X)) \n",
    "print('Coeff. di determinazione: {:.3f}'.format(RF))\n",
    "\n",
    "\n",
    "X_grid = np.arange(min(X), max(X), 0.1)\n",
    "X_grid = X_grid.reshape(len(X_grid),1)\n",
    "plt.scatter(X,Y)\n",
    "plt.plot(X_grid, classifier.predict(X_grid), color = 'red')\n",
    "plt.grid(True)\n",
    "plt.show()"
   ]
  },
  {
   "cell_type": "markdown",
   "metadata": {},
   "source": [
    "We can perform these algorithms on large dataset with a lot of attributes. However, it won't be possible to show the result. "
   ]
  },
  {
   "cell_type": "markdown",
   "metadata": {},
   "source": [
    "<h3><center> R-SQUARED </h3></center>\n",
    "\n",
    "This parameter is used to compute how much the _Simple regression_ fit the data.\n",
    "It's defined as follow:\n",
    "\n",
    "$$R^2 = \\frac{DS}{DT} ,$$ \n",
    "\n",
    "where:\n",
    "\n",
    "$$DS = \\sum_{i=1}^{N} (\\hat{y}_i - \\bar{y}),$$\n",
    "\n",
    "$$DT=\\sum_{i=1}^{N} (y_i - \\bar{y}) .$$\n",
    "\n",
    "There is also the **Adjusted $R^2$** which takes into account the number of regressors in multiple regression.\n",
    "\n",
    "$$R^2 = 1-\\frac{N-1}{N-k-1}\\frac{DR}{DT} ,$$\n",
    "\n",
    "where $K$ is the number of regressor, while $N$ the number of points.\n",
    "\n",
    "Keep in mind that $R^2$ is biased in a multiple regression since the increase of the number of regressors entail the default increase of that parameter. So, it's important to introduce the adjusted parameter. "
   ]
  },
  {
   "cell_type": "markdown",
   "metadata": {},
   "source": [
    "<h3><center> HOW TO COMPARE DIFFERENT REGRESSION MODELS? </h3></center>\n",
    "\n",
    "The $R^2$ is a good parameter in order to select the best model. \n",
    "\n",
    "Models are characterized by **parameter that are learnt** and **hyperparameters**, namely the default values of the model. The latters can be modified in order to increase the accuracy of the model. Noreover, since the overfitting must be avoided, the **regularization** techniques can be used, such as the _LASSO_ ,  _RIDGE REGRESSION_ and the _ELASTIC NET_ which add to the sum of squares a combination of parameters. "
   ]
  },
  {
   "cell_type": "code",
   "execution_count": 148,
   "metadata": {},
   "outputs": [
    {
     "name": "stdout",
     "output_type": "stream",
     "text": [
      "Linear Regression: 0.96 \n",
      "Multiple linear regression: 0.95 \n",
      "Polynomial linear regression: 1.00 \n",
      "Support vector regression: 0.75 \n",
      "Decision tree: 1.00 \n",
      "Random forest: 0.96\n"
     ]
    }
   ],
   "source": [
    "print('Linear Regression: {:.2f}'.format(LR), '\\n'\n",
    "     'Multiple linear regression: {:.2f}'.format(MLR), '\\n'\n",
    "     'Polynomial linear regression: {:.2f}'.format(PLR), '\\n'\n",
    "     'Support vector regression: {:.2f}'.format(SVR_r_2), '\\n'\n",
    "     'Decision tree: {:.2f}'.format(DT), '\\n'\n",
    "     'Random forest: {:.2f}'.format(RF))\n"
   ]
  },
  {
   "cell_type": "markdown",
   "metadata": {},
   "source": [
    "The best is the polynomial linear regression since the decision trees presents overfitting."
   ]
  }
 ],
 "metadata": {
  "kernelspec": {
   "display_name": "Python 3",
   "language": "python",
   "name": "python3"
  },
  "language_info": {
   "codemirror_mode": {
    "name": "ipython",
    "version": 3
   },
   "file_extension": ".py",
   "mimetype": "text/x-python",
   "name": "python",
   "nbconvert_exporter": "python",
   "pygments_lexer": "ipython3",
   "version": "3.7.6"
  }
 },
 "nbformat": 4,
 "nbformat_minor": 4
}
